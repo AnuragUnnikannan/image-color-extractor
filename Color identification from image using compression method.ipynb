{
 "cells": [
  {
   "cell_type": "code",
   "execution_count": 5,
   "id": "dd261951",
   "metadata": {},
   "outputs": [],
   "source": [
    "import matplotlib.pyplot as plt\n",
    "import numpy as np\n",
    "import cv2\n",
    "from collections import Counter\n",
    "import os\n",
    "import pprint\n",
    "\n",
    "\n",
    "%matplotlib inline\n",
    "path=r\"D:\\Image_datasets\\celebrity_faces\\misc\\selena.jpg\""
   ]
  },
  {
   "cell_type": "code",
   "execution_count": 16,
   "id": "0283c436",
   "metadata": {},
   "outputs": [],
   "source": [
    "def get_image(image_path,new_shape=(3,3),plot_original=False,plot_resized=True):\n",
    "    image_path=image_path.replace(\"\\\\\",\"/\")\n",
    "    print(image_path)\n",
    "    image = cv2.imread(image_path)\n",
    "    image = cv2.cvtColor(image, cv2.COLOR_BGR2RGB)\n",
    "    resized_image = cv2.resize(image, new_shape, interpolation = cv2.INTER_AREA)\n",
    "    flatten_image = resized_image.reshape(resized_image.shape[0]*resized_image.shape[1], 3)\n",
    "    \n",
    "    if plot_original:\n",
    "        plt.axis('off')\n",
    "        plt.imshow(image)\n",
    "        plt.title(\"Inserted image : \"+image_path.split(\"/\")[-1])\n",
    "        \n",
    "    if plot_resized:\n",
    "        plt.axis('off')\n",
    "        plt.imshow(resized_image)\n",
    "        plt.title(\"Inserted image : \"+image_path.split(\"/\")[-1])\n",
    "        plt.show()\n",
    "    return resized_image,flatten_image\n",
    "\n",
    "\n",
    "\n",
    "def get_nearest_colors(act_color,rest_color):\n",
    "    all_dist=[]\n",
    "    for rcolor in rest_color:\n",
    "        rdiff=act_color[0]-rcolor[0]\n",
    "        gdiff=act_color[1]-rcolor[1];\n",
    "        bdiff=act_color[2]-rcolor[2];\n",
    "        distance = rdiff**2 + gdiff**2 + bdiff**2\n",
    "        if distance<=10000:\n",
    "            all_dist.append(rcolor)\n",
    "    print(act_color,all_dist, len(all_dist))\n",
    "\n",
    "    \n",
    "    \n",
    "def get_dominent_color(path):\n",
    "    modified_image,image_pixels=get_image(path)\n",
    "    \n",
    "    value_list=[]\n",
    "    \n",
    "    for i in range(len(image_pixels)):\n",
    "        temp_list=image_pixels.tolist()\n",
    "        temp_list.pop(i)\n",
    "        get_nearest_colors(image_pixels[i],temp_list)\n"
   ]
  },
  {
   "cell_type": "code",
   "execution_count": 17,
   "id": "46874056",
   "metadata": {
    "scrolled": true
   },
   "outputs": [
    {
     "name": "stdout",
     "output_type": "stream",
     "text": [
      "D:/Image_datasets/celebrity_faces/misc/selena.jpg\n"
     ]
    },
    {
     "data": {
      "image/png": "[encoded data removed]",
      "text/plain": [
       "<Figure size 432x288 with 1 Axes>"
      ]
     },
     "metadata": {
      "needs_background": "light"
     },
     "output_type": "display_data"
    },
    {
     "name": "stdout",
     "output_type": "stream",
     "text": [
      "[197 196 193] [[185, 185, 181]] 1\n",
      "[149 128 116] [[185, 185, 181], [145, 127, 112], [147, 118, 104], [131, 110, 93], [123, 93, 72], [131, 111, 115], [122, 93, 80]] 7\n",
      "[185 185 181] [[197, 196, 193], [149, 128, 116], [145, 127, 112]] 3\n",
      "[145 127 112] [[149, 128, 116], [185, 185, 181], [147, 118, 104], [131, 110, 93], [123, 93, 72], [131, 111, 115], [122, 93, 80]] 7\n",
      "[147 118 104] [[149, 128, 116], [145, 127, 112], [131, 110, 93], [123, 93, 72], [131, 111, 115], [122, 93, 80]] 6\n",
      "[131 110  93] [[149, 128, 116], [145, 127, 112], [147, 118, 104], [123, 93, 72], [131, 111, 115], [122, 93, 80]] 6\n",
      "[123  93  72] [[149, 128, 116], [145, 127, 112], [147, 118, 104], [131, 110, 93], [131, 111, 115], [122, 93, 80]] 6\n",
      "[131 111 115] [[149, 128, 116], [145, 127, 112], [147, 118, 104], [131, 110, 93], [123, 93, 72], [122, 93, 80]] 6\n",
      "[122  93  80] [[149, 128, 116], [145, 127, 112], [147, 118, 104], [131, 110, 93], [123, 93, 72], [131, 111, 115]] 6\n"
     ]
    }
   ],
   "source": [
    "get_dominent_color(path)"
   ]
  },
  {
   "cell_type": "code",
   "execution_count": null,
   "id": "1be12999",
   "metadata": {},
   "outputs": [],
   "source": []
  },
  {
   "cell_type": "code",
   "execution_count": null,
   "id": "14d553da",
   "metadata": {},
   "outputs": [],
   "source": []
  },
  {
   "cell_type": "code",
   "execution_count": null,
   "id": "22e83ef2",
   "metadata": {},
   "outputs": [],
   "source": []
  },
  {
   "cell_type": "code",
   "execution_count": null,
   "id": "7edbbc64",
   "metadata": {},
   "outputs": [],
   "source": []
  }
 ],
 "metadata": {
  "kernelspec": {
   "display_name": "Python 3",
   "language": "python",
   "name": "python3"
  },
  "language_info": {
   "codemirror_mode": {
    "name": "ipython",
    "version": 3
   },
   "file_extension": ".py",
   "mimetype": "text/x-python",
   "name": "python",
   "nbconvert_exporter": "python",
   "pygments_lexer": "ipython3",
   "version": "3.8.8"
  }
 },
 "nbformat": 4,
 "nbformat_minor": 5
}
